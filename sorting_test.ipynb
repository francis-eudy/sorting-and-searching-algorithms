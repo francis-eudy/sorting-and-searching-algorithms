{
 "cells": [
  {
   "cell_type": "code",
   "execution_count": 1,
   "id": "connected-dominant",
   "metadata": {},
   "outputs": [],
   "source": [
    "# Import the Sort Algorithms \n",
    "from bubble_sort import bubble_sort\n",
    "from insertion_sort import insertion_sort\n",
    "from merge_sort import merge_sort\n",
    "from shell_sort import shell_sort\n",
    "from selection_sort import selection_sort"
   ]
  },
  {
   "cell_type": "code",
   "execution_count": 2,
   "id": "broadband-cambridge",
   "metadata": {},
   "outputs": [],
   "source": [
    "import random\n",
    "import matplotlib.pyplot as plt\n",
    "import matplotlib.animation as anim\n",
    "%matplotlib inline"
   ]
  },
  {
   "cell_type": "code",
   "execution_count": 3,
   "id": "dramatic-polyester",
   "metadata": {},
   "outputs": [
    {
     "data": {
      "text/plain": [
       "[16,\n",
       " 24,\n",
       " 13,\n",
       " 4,\n",
       " 7,\n",
       " 17,\n",
       " 2,\n",
       " 14,\n",
       " 20,\n",
       " 5,\n",
       " 23,\n",
       " 12,\n",
       " 9,\n",
       " 0,\n",
       " 18,\n",
       " 6,\n",
       " 8,\n",
       " 19,\n",
       " 15,\n",
       " 3,\n",
       " 22,\n",
       " 10,\n",
       " 11,\n",
       " 1,\n",
       " 21]"
      ]
     },
     "execution_count": 3,
     "metadata": {},
     "output_type": "execute_result"
    }
   ],
   "source": [
    "list_ = [i for i in range(25)]\n",
    "random.shuffle(list_)\n",
    "list_"
   ]
  },
  {
   "cell_type": "code",
   "execution_count": 4,
   "id": "white-oakland",
   "metadata": {},
   "outputs": [
    {
     "data": {
      "text/plain": [
       "[0,\n",
       " 1,\n",
       " 2,\n",
       " 3,\n",
       " 4,\n",
       " 5,\n",
       " 6,\n",
       " 7,\n",
       " 8,\n",
       " 9,\n",
       " 10,\n",
       " 11,\n",
       " 12,\n",
       " 13,\n",
       " 14,\n",
       " 15,\n",
       " 16,\n",
       " 17,\n",
       " 18,\n",
       " 19,\n",
       " 20,\n",
       " 21,\n",
       " 22,\n",
       " 23,\n",
       " 24]"
      ]
     },
     "execution_count": 4,
     "metadata": {},
     "output_type": "execute_result"
    }
   ],
   "source": [
    "selection_sort(list_)"
   ]
  },
  {
   "cell_type": "code",
   "execution_count": null,
   "id": "talented-oklahoma",
   "metadata": {},
   "outputs": [],
   "source": []
  }
 ],
 "metadata": {
  "kernelspec": {
   "display_name": "Python 3",
   "language": "python",
   "name": "python3"
  },
  "language_info": {
   "codemirror_mode": {
    "name": "ipython",
    "version": 3
   },
   "file_extension": ".py",
   "mimetype": "text/x-python",
   "name": "python",
   "nbconvert_exporter": "python",
   "pygments_lexer": "ipython3",
   "version": "3.8.7"
  }
 },
 "nbformat": 4,
 "nbformat_minor": 5
}
